{
 "cells": [
  {
   "cell_type": "code",
   "execution_count": null,
   "id": "0d1d0f2e-4c89-4a7e-9b96-ec49d93b1a23",
   "metadata": {},
   "outputs": [],
   "source": [
    "from train import train"
   ]
  },
  {
   "cell_type": "code",
   "execution_count": null,
   "id": "9666e4bf-f882-4573-a586-7d1ec20dbbac",
   "metadata": {},
   "outputs": [],
   "source": [
    "train(is_training=True)"
   ]
  },
  {
   "cell_type": "code",
   "execution_count": null,
   "id": "d24acaa6-96c9-45ce-8bb7-6865203ef0a7",
   "metadata": {},
   "outputs": [],
   "source": []
  },
  {
   "cell_type": "code",
   "execution_count": 3,
   "id": "9e1b0756-8e69-40f4-8319-5c85f54fd8c0",
   "metadata": {},
   "outputs": [
    {
     "name": "stdout",
     "output_type": "stream",
     "text": [
      "Downloading data from https://storage.googleapis.com/tensorflow/keras-applications/vgg19/vgg19_weights_tf_dim_ordering_tf_kernels_notop.h5\n",
      "\u001b[1m80134624/80134624\u001b[0m \u001b[32m━━━━━━━━━━━━━━━━━━━━\u001b[0m\u001b[37m\u001b[0m \u001b[1m5s\u001b[0m 0us/step\n",
      "Epoch 1/10\n",
      "\u001b[1m3/3\u001b[0m \u001b[32m━━━━━━━━━━━━━━━━━━━━\u001b[0m\u001b[37m\u001b[0m \u001b[1m15s\u001b[0m 5s/step - loss: 9612.6699 - val_loss: 231.8676\n",
      "Epoch 2/10\n",
      "\u001b[1m3/3\u001b[0m \u001b[32m━━━━━━━━━━━━━━━━━━━━\u001b[0m\u001b[37m\u001b[0m \u001b[1m14s\u001b[0m 5s/step - loss: 1068.0299 - val_loss: 3712.9290\n",
      "Epoch 3/10\n",
      "\u001b[1m3/3\u001b[0m \u001b[32m━━━━━━━━━━━━━━━━━━━━\u001b[0m\u001b[37m\u001b[0m \u001b[1m15s\u001b[0m 5s/step - loss: 2665.3081 - val_loss: 3104.6025\n",
      "Epoch 4/10\n",
      "\u001b[1m3/3\u001b[0m \u001b[32m━━━━━━━━━━━━━━━━━━━━\u001b[0m\u001b[37m\u001b[0m \u001b[1m15s\u001b[0m 5s/step - loss: 1969.0305 - val_loss: 399.6054\n",
      "Epoch 5/10\n",
      "\u001b[1m3/3\u001b[0m \u001b[32m━━━━━━━━━━━━━━━━━━━━\u001b[0m\u001b[37m\u001b[0m \u001b[1m15s\u001b[0m 5s/step - loss: 702.9630 - val_loss: 189.3539\n",
      "Epoch 6/10\n",
      "\u001b[1m3/3\u001b[0m \u001b[32m━━━━━━━━━━━━━━━━━━━━\u001b[0m\u001b[37m\u001b[0m \u001b[1m15s\u001b[0m 5s/step - loss: 979.7708 - val_loss: 605.2069\n",
      "Epoch 7/10\n",
      "\u001b[1m3/3\u001b[0m \u001b[32m━━━━━━━━━━━━━━━━━━━━\u001b[0m\u001b[37m\u001b[0m \u001b[1m15s\u001b[0m 5s/step - loss: 1159.7444 - val_loss: 379.8264\n",
      "Epoch 8/10\n",
      "\u001b[1m3/3\u001b[0m \u001b[32m━━━━━━━━━━━━━━━━━━━━\u001b[0m\u001b[37m\u001b[0m \u001b[1m15s\u001b[0m 5s/step - loss: 757.3507 - val_loss: 102.8035\n",
      "Epoch 9/10\n",
      "\u001b[1m3/3\u001b[0m \u001b[32m━━━━━━━━━━━━━━━━━━━━\u001b[0m\u001b[37m\u001b[0m \u001b[1m14s\u001b[0m 5s/step - loss: 535.7209 - val_loss: 222.6966\n",
      "Epoch 10/10\n",
      "\u001b[1m3/3\u001b[0m \u001b[32m━━━━━━━━━━━━━━━━━━━━\u001b[0m\u001b[37m\u001b[0m \u001b[1m14s\u001b[0m 5s/step - loss: 640.4436 - val_loss: 331.6951\n"
     ]
    },
    {
     "name": "stderr",
     "output_type": "stream",
     "text": [
      "WARNING:absl:You are saving your model as an HDF5 file via `model.save()` or `keras.saving.save_model(model)`. This file format is considered legacy. We recommend using instead the native Keras format, e.g. `model.save('my_model.keras')` or `keras.saving.save_model(model, 'my_model.keras')`. \n"
     ]
    }
   ],
   "source": [
    "import numpy as np\n",
    "import tensorflow as tf\n",
    "from tensorflow.keras.applications import VGG19\n",
    "from tensorflow.keras.models import Model\n",
    "from tensorflow.keras.layers import Dense, Flatten\n",
    "\n",
    "# Load your data\n",
    "x_train = np.load('npy/x_train.npy')  # Assuming you have numpy arrays saved as 'train_data.npy'\n",
    "y_train = np.load('npy/y_train.npy')  # Assuming you have numpy arrays saved as 'train_labels.npy'\n",
    "x_test = np.load('npy/x_test.npy')  # Assuming you have numpy arrays saved as 'test_data.npy'\n",
    "y_test = np.load('npy/y_test.npy')  # Assuming you have numpy arrays saved as 'test_labels.npy'\n",
    "\n",
    "# Preprocess your data (normalize, etc.)\n",
    "x_train = x_train.astype('float32') / 255.0\n",
    "x_test = x_test.astype('float32') / 255.0\n",
    "\n",
    "# Define your model\n",
    "base_model = VGG19(weights='imagenet', include_top=False, input_shape=(248, 248, 3))\n",
    "\n",
    "# Freeze the convolutional layers\n",
    "for layer in base_model.layers:\n",
    "    layer.trainable = False\n",
    "\n",
    "# Add custom layers on top of VGG19\n",
    "x = Flatten()(base_model.output)\n",
    "x = Dense(512, activation='relu')(x)\n",
    "predictions = Dense(2)(x)  # Assuming you want to predict 2 coordinates\n",
    "\n",
    "model = Model(inputs=base_model.input, outputs=predictions)\n",
    "\n",
    "# Compile the model\n",
    "model.compile(optimizer='adam', loss='mean_squared_error')\n",
    "\n",
    "# Train the model\n",
    "model.fit(x_train, y_train, epochs=10, batch_size=32, validation_data=(x_test, y_test))\n",
    "\n",
    "# Save the trained model\n",
    "model.save('vgg19_coordinates_model.h5')"
   ]
  },
  {
   "cell_type": "code",
   "execution_count": 4,
   "id": "a28141d3-bb33-4e0c-a0e2-d5ba85ec90b2",
   "metadata": {},
   "outputs": [
    {
     "name": "stdout",
     "output_type": "stream",
     "text": [
      "\u001b[1m1/1\u001b[0m \u001b[32m━━━━━━━━━━━━━━━━━━━━\u001b[0m\u001b[37m\u001b[0m \u001b[1m2s\u001b[0m 2s/step\n",
      "Mean Squared Error: 331.69508344660125\n",
      "Mean Absolute Error: 15.106916315415326\n"
     ]
    }
   ],
   "source": [
    "from sklearn.metrics import mean_squared_error, mean_absolute_error\n",
    "\n",
    "# Predict on the test data\n",
    "y_pred = model.predict(x_test)\n",
    "\n",
    "# Calculate mean squared error\n",
    "mse = mean_squared_error(y_test, y_pred)\n",
    "print(\"Mean Squared Error:\", mse)\n",
    "\n",
    "# Calculate mean absolute error\n",
    "mae = mean_absolute_error(y_test, y_pred)\n",
    "print(\"Mean Absolute Error:\", mae)"
   ]
  },
  {
   "cell_type": "code",
   "execution_count": 5,
   "id": "f0a5aefe-f757-428e-a8a4-0bc1f4ad515e",
   "metadata": {},
   "outputs": [
    {
     "data": {
      "text/plain": [
       "array([[ 74.88568 , 168.47282 ],\n",
       "       [ 62.763657, 136.66049 ],\n",
       "       [ 58.95584 , 138.2977  ],\n",
       "       [ 62.930477, 135.3234  ],\n",
       "       [ 59.35115 , 139.64796 ],\n",
       "       [ 54.766895, 137.42877 ],\n",
       "       [ 58.878014, 131.39014 ],\n",
       "       [ 57.547726, 140.69223 ],\n",
       "       [ 57.408314, 132.25449 ],\n",
       "       [ 60.657333, 134.97989 ],\n",
       "       [ 59.602627, 137.79178 ],\n",
       "       [ 60.969116, 136.98067 ],\n",
       "       [ 59.663662, 138.3917  ],\n",
       "       [ 59.539913, 136.46121 ],\n",
       "       [ 59.67803 , 137.0943  ],\n",
       "       [ 59.002857, 138.94838 ],\n",
       "       [ 60.381718, 137.46547 ]], dtype=float32)"
      ]
     },
     "execution_count": 5,
     "metadata": {},
     "output_type": "execute_result"
    }
   ],
   "source": [
    "y_pred"
   ]
  },
  {
   "cell_type": "code",
   "execution_count": 6,
   "id": "760e4592-d886-4098-a0e1-69574dbee20a",
   "metadata": {},
   "outputs": [
    {
     "data": {
      "text/plain": [
       "array([[ 49, 118],\n",
       "       [ 58, 114],\n",
       "       [ 49, 118],\n",
       "       [ 58, 114],\n",
       "       [ 49, 118],\n",
       "       [ 58, 114],\n",
       "       [ 49, 118],\n",
       "       [ 58, 114],\n",
       "       [ 49, 118],\n",
       "       [ 58, 114],\n",
       "       [ 49, 118],\n",
       "       [ 58, 114],\n",
       "       [ 49, 118],\n",
       "       [ 58, 114],\n",
       "       [ 49, 118],\n",
       "       [ 58, 114],\n",
       "       [ 49, 118]])"
      ]
     },
     "execution_count": 6,
     "metadata": {},
     "output_type": "execute_result"
    }
   ],
   "source": [
    "y_test"
   ]
  },
  {
   "cell_type": "code",
   "execution_count": 7,
   "id": "90c2691e-c1d9-47b8-b5c1-37cc950389f4",
   "metadata": {},
   "outputs": [
    {
     "data": {
      "text/plain": [
       "array([[ 65, 181],\n",
       "       [ 46, 213],\n",
       "       [ 64, 181],\n",
       "       [ 46, 211],\n",
       "       [ 66, 182],\n",
       "       [ 49, 205],\n",
       "       [ 66, 185],\n",
       "       [ 51, 206],\n",
       "       [ 72, 183],\n",
       "       [ 54, 204],\n",
       "       [ 67, 191],\n",
       "       [ 55, 206],\n",
       "       [ 70, 191],\n",
       "       [ 56, 205],\n",
       "       [ 66, 199],\n",
       "       [ 58, 203],\n",
       "       [ 67, 200],\n",
       "       [ 61, 199],\n",
       "       [ 64, 205],\n",
       "       [ 61, 196],\n",
       "       [ 65, 204],\n",
       "       [ 64, 194],\n",
       "       [ 64, 206],\n",
       "       [ 65, 194],\n",
       "       [ 60, 209],\n",
       "       [ 64, 191],\n",
       "       [ 54, 212],\n",
       "       [ 66, 189],\n",
       "       [ 51, 211],\n",
       "       [ 66, 186],\n",
       "       [ 48, 212],\n",
       "       [ 67, 185],\n",
       "       [ 40, 128],\n",
       "       [ 64, 110],\n",
       "       [ 40, 128],\n",
       "       [ 64, 108],\n",
       "       [ 44, 124],\n",
       "       [ 61, 114],\n",
       "       [ 43, 125],\n",
       "       [ 64, 111],\n",
       "       [ 66, 191],\n",
       "       [ 84, 176],\n",
       "       [ 65, 191],\n",
       "       [ 79, 177],\n",
       "       [ 43, 129],\n",
       "       [ 55, 117],\n",
       "       [ 45, 124],\n",
       "       [ 53, 118],\n",
       "       [ 44, 129],\n",
       "       [ 44, 126],\n",
       "       [ 44, 126],\n",
       "       [ 44, 124],\n",
       "       [ 50, 121],\n",
       "       [ 44, 125],\n",
       "       [ 59, 114],\n",
       "       [ 44, 125],\n",
       "       [ 58, 114],\n",
       "       [ 49, 118],\n",
       "       [ 58, 114],\n",
       "       [ 49, 118],\n",
       "       [ 58, 114],\n",
       "       [ 49, 118],\n",
       "       [ 58, 114],\n",
       "       [ 49, 118],\n",
       "       [ 58, 114],\n",
       "       [ 49, 118],\n",
       "       [ 58, 114],\n",
       "       [ 49, 118],\n",
       "       [ 58, 114],\n",
       "       [ 49, 118],\n",
       "       [ 58, 114],\n",
       "       [ 49, 118],\n",
       "       [ 58, 114],\n",
       "       [ 49, 118],\n",
       "       [ 58, 114],\n",
       "       [ 49, 118],\n",
       "       [ 58, 114],\n",
       "       [ 49, 118],\n",
       "       [ 58, 114],\n",
       "       [ 49, 118],\n",
       "       [ 58, 114],\n",
       "       [ 49, 118],\n",
       "       [ 58, 114],\n",
       "       [ 49, 118],\n",
       "       [ 58, 114],\n",
       "       [ 49, 118],\n",
       "       [ 58, 114],\n",
       "       [ 49, 118],\n",
       "       [ 58, 114],\n",
       "       [ 49, 118],\n",
       "       [ 58, 114],\n",
       "       [ 49, 118],\n",
       "       [ 58, 114],\n",
       "       [ 49, 118],\n",
       "       [ 58, 114]])"
      ]
     },
     "execution_count": 7,
     "metadata": {},
     "output_type": "execute_result"
    }
   ],
   "source": [
    "y_train"
   ]
  },
  {
   "cell_type": "code",
   "execution_count": null,
   "id": "0e64811f-df0d-4965-9cdf-5ce2961bf662",
   "metadata": {},
   "outputs": [],
   "source": []
  }
 ],
 "metadata": {
  "kernelspec": {
   "display_name": "Python 3 (ipykernel)",
   "language": "python",
   "name": "python3"
  },
  "language_info": {
   "codemirror_mode": {
    "name": "ipython",
    "version": 3
   },
   "file_extension": ".py",
   "mimetype": "text/x-python",
   "name": "python",
   "nbconvert_exporter": "python",
   "pygments_lexer": "ipython3",
   "version": "3.11.7"
  }
 },
 "nbformat": 4,
 "nbformat_minor": 5
}
