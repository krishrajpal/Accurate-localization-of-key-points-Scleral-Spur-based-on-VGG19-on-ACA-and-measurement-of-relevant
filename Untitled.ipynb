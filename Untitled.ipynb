{
 "cells": [
  {
   "cell_type": "code",
   "execution_count": 1,
   "id": "0d1d0f2e-4c89-4a7e-9b96-ec49d93b1a23",
   "metadata": {},
   "outputs": [
    {
     "name": "stdout",
     "output_type": "stream",
     "text": [
      "1\n"
     ]
    }
   ],
   "source": [
    "from train import train"
   ]
  },
  {
   "cell_type": "code",
   "execution_count": 2,
   "id": "9666e4bf-f882-4573-a586-7d1ec20dbbac",
   "metadata": {},
   "outputs": [
    {
     "name": "stdout",
     "output_type": "stream",
     "text": [
      "Tensor(\"VGG_19/split:0\", shape=(None, 224, 224, 1), dtype=float32)\n",
      "(None, 224, 224, 1)\n"
     ]
    },
    {
     "ename": "TypeError",
     "evalue": "'KerasTensor' object is not callable",
     "output_type": "error",
     "traceback": [
      "\u001b[0;31m---------------------------------------------------------------------------\u001b[0m",
      "\u001b[0;31mTypeError\u001b[0m                                 Traceback (most recent call last)",
      "Cell \u001b[0;32mIn[2], line 1\u001b[0m\n\u001b[0;32m----> 1\u001b[0m train(is_training\u001b[38;5;241m=\u001b[39m\u001b[38;5;28;01mTrue\u001b[39;00m)\n",
      "File \u001b[0;32m~/Desktop/projects/project/train.py:22\u001b[0m, in \u001b[0;36mtrain\u001b[0;34m(is_training)\u001b[0m\n\u001b[1;32m     20\u001b[0m \u001b[38;5;28;01mdef\u001b[39;00m \u001b[38;5;21mtrain\u001b[39m(is_training):\n\u001b[0;32m---> 22\u001b[0m     net_vgg, conv \u001b[38;5;241m=\u001b[39m network(x, reuse\u001b[38;5;241m=\u001b[39m\u001b[38;5;28;01mFalse\u001b[39;00m)\n\u001b[1;32m     23\u001b[0m     ft_output \u001b[38;5;241m=\u001b[39m FlattenLayer(conv, name\u001b[38;5;241m=\u001b[39m\u001b[38;5;124m'\u001b[39m\u001b[38;5;124mflatten_1\u001b[39m\u001b[38;5;124m'\u001b[39m)\n\u001b[1;32m     24\u001b[0m     ft_output \u001b[38;5;241m=\u001b[39m DenseLayer(ft_output, n_units\u001b[38;5;241m=\u001b[39m\u001b[38;5;241m4096\u001b[39m, act\u001b[38;5;241m=\u001b[39mtf\u001b[38;5;241m.\u001b[39mnn\u001b[38;5;241m.\u001b[39mrelu, name\u001b[38;5;241m=\u001b[39m\u001b[38;5;124m'\u001b[39m\u001b[38;5;124mfc6_1\u001b[39m\u001b[38;5;124m'\u001b[39m)\n",
      "File \u001b[0;32m~/Desktop/projects/project/Networks.py:14\u001b[0m, in \u001b[0;36mnetwork\u001b[0;34m(x, reuse)\u001b[0m\n\u001b[1;32m     12\u001b[0m bgr \u001b[38;5;241m=\u001b[39m Concatenate(axis\u001b[38;5;241m=\u001b[39m\u001b[38;5;241m-\u001b[39m\u001b[38;5;241m1\u001b[39m)([b \u001b[38;5;241m-\u001b[39m VGG_MEAN[\u001b[38;5;241m0\u001b[39m],g \u001b[38;5;241m-\u001b[39m VGG_MEAN[\u001b[38;5;241m1\u001b[39m],r \u001b[38;5;241m-\u001b[39m VGG_MEAN[\u001b[38;5;241m2\u001b[39m]])\n\u001b[1;32m     13\u001b[0m \u001b[38;5;66;03m# assert bgr.get_shape().as_list()[1:] == [224, 224, 3]\u001b[39;00m\n\u001b[0;32m---> 14\u001b[0m net_in \u001b[38;5;241m=\u001b[39m Input(shape\u001b[38;5;241m=\u001b[39m(\u001b[38;5;241m224\u001b[39m, \u001b[38;5;241m224\u001b[39m, \u001b[38;5;241m3\u001b[39m), name\u001b[38;5;241m=\u001b[39m\u001b[38;5;124m'\u001b[39m\u001b[38;5;124minput\u001b[39m\u001b[38;5;124m'\u001b[39m)(bgr)\n\u001b[1;32m     15\u001b[0m \u001b[38;5;66;03m# Construct the network\u001b[39;00m\n\u001b[1;32m     16\u001b[0m \u001b[38;5;250m\u001b[39m\u001b[38;5;124;03m\"\"\"conv1\"\"\"\u001b[39;00m\n",
      "\u001b[0;31mTypeError\u001b[0m: 'KerasTensor' object is not callable"
     ]
    }
   ],
   "source": [
    "train(is_training=True)"
   ]
  },
  {
   "cell_type": "code",
   "execution_count": null,
   "id": "d24acaa6-96c9-45ce-8bb7-6865203ef0a7",
   "metadata": {},
   "outputs": [],
   "source": []
  }
 ],
 "metadata": {
  "kernelspec": {
   "display_name": "Python 3 (ipykernel)",
   "language": "python",
   "name": "python3"
  },
  "language_info": {
   "codemirror_mode": {
    "name": "ipython",
    "version": 3
   },
   "file_extension": ".py",
   "mimetype": "text/x-python",
   "name": "python",
   "nbconvert_exporter": "python",
   "pygments_lexer": "ipython3",
   "version": "3.11.7"
  }
 },
 "nbformat": 4,
 "nbformat_minor": 5
}
