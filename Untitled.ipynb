{
 "cells": [
  {
   "cell_type": "code",
   "execution_count": null,
   "id": "0d1d0f2e-4c89-4a7e-9b96-ec49d93b1a23",
   "metadata": {},
   "outputs": [],
   "source": [
    "from train import train"
   ]
  },
  {
   "cell_type": "code",
   "execution_count": null,
   "id": "9666e4bf-f882-4573-a586-7d1ec20dbbac",
   "metadata": {},
   "outputs": [],
   "source": [
    "train(is_training=True)"
   ]
  },
  {
   "cell_type": "code",
   "execution_count": null,
   "id": "d24acaa6-96c9-45ce-8bb7-6865203ef0a7",
   "metadata": {},
   "outputs": [],
   "source": []
  },
  {
   "cell_type": "code",
   "execution_count": 1,
   "id": "9e1b0756-8e69-40f4-8319-5c85f54fd8c0",
   "metadata": {},
   "outputs": [
    {
     "name": "stdout",
     "output_type": "stream",
     "text": [
      "Epoch 1/10\n",
      "\u001b[1m3/3\u001b[0m \u001b[32m━━━━━━━━━━━━━━━━━━━━\u001b[0m\u001b[37m\u001b[0m \u001b[1m15s\u001b[0m 5s/step - loss: 14562.7812 - val_loss: 1455.2533\n",
      "Epoch 2/10\n",
      "\u001b[1m3/3\u001b[0m \u001b[32m━━━━━━━━━━━━━━━━━━━━\u001b[0m\u001b[37m\u001b[0m \u001b[1m15s\u001b[0m 5s/step - loss: 3303.1206 - val_loss: 1227.4620\n",
      "Epoch 3/10\n",
      "\u001b[1m3/3\u001b[0m \u001b[32m━━━━━━━━━━━━━━━━━━━━\u001b[0m\u001b[37m\u001b[0m \u001b[1m15s\u001b[0m 5s/step - loss: 995.6570 - val_loss: 4508.8501\n",
      "Epoch 4/10\n",
      "\u001b[1m3/3\u001b[0m \u001b[32m━━━━━━━━━━━━━━━━━━━━\u001b[0m\u001b[37m\u001b[0m \u001b[1m14s\u001b[0m 5s/step - loss: 2509.6768 - val_loss: 3288.6084\n",
      "Epoch 5/10\n",
      "\u001b[1m3/3\u001b[0m \u001b[32m━━━━━━━━━━━━━━━━━━━━\u001b[0m\u001b[37m\u001b[0m \u001b[1m15s\u001b[0m 5s/step - loss: 1798.9766 - val_loss: 737.5228\n",
      "Epoch 6/10\n",
      "\u001b[1m3/3\u001b[0m \u001b[32m━━━━━━━━━━━━━━━━━━━━\u001b[0m\u001b[37m\u001b[0m \u001b[1m14s\u001b[0m 5s/step - loss: 314.4855 - val_loss: 80.8954\n",
      "Epoch 7/10\n",
      "\u001b[1m3/3\u001b[0m \u001b[32m━━━━━━━━━━━━━━━━━━━━\u001b[0m\u001b[37m\u001b[0m \u001b[1m15s\u001b[0m 5s/step - loss: 187.9527 - val_loss: 539.5533\n",
      "Epoch 8/10\n",
      "\u001b[1m3/3\u001b[0m \u001b[32m━━━━━━━━━━━━━━━━━━━━\u001b[0m\u001b[37m\u001b[0m \u001b[1m14s\u001b[0m 5s/step - loss: 526.2009 - val_loss: 759.0651\n",
      "Epoch 9/10\n",
      "\u001b[1m3/3\u001b[0m \u001b[32m━━━━━━━━━━━━━━━━━━━━\u001b[0m\u001b[37m\u001b[0m \u001b[1m15s\u001b[0m 5s/step - loss: 515.9999 - val_loss: 490.3892\n",
      "Epoch 10/10\n",
      "\u001b[1m3/3\u001b[0m \u001b[32m━━━━━━━━━━━━━━━━━━━━\u001b[0m\u001b[37m\u001b[0m \u001b[1m15s\u001b[0m 5s/step - loss: 237.0197 - val_loss: 162.6836\n"
     ]
    },
    {
     "name": "stderr",
     "output_type": "stream",
     "text": [
      "WARNING:absl:You are saving your model as an HDF5 file via `model.save()` or `keras.saving.save_model(model)`. This file format is considered legacy. We recommend using instead the native Keras format, e.g. `model.save('my_model.keras')` or `keras.saving.save_model(model, 'my_model.keras')`. \n"
     ]
    }
   ],
   "source": [
    "import numpy as np\n",
    "import tensorflow as tf\n",
    "from tensorflow.keras.applications import VGG19\n",
    "from tensorflow.keras.models import Model\n",
    "from tensorflow.keras.layers import Dense, Flatten\n",
    "\n",
    "# Load your data\n",
    "x_train = np.load('npy/x_train.npy')  # Assuming you have numpy arrays saved as 'train_data.npy'\n",
    "y_train = np.load('npy/y_train.npy')  # Assuming you have numpy arrays saved as 'train_labels.npy'\n",
    "x_test = np.load('npy/x_test.npy')  # Assuming you have numpy arrays saved as 'test_data.npy'\n",
    "y_test = np.load('npy/y_test.npy')  # Assuming you have numpy arrays saved as 'test_labels.npy'\n",
    "\n",
    "# Preprocess your data (normalize, etc.)\n",
    "x_train = x_train.astype('float32') / 255.0\n",
    "x_test = x_test.astype('float32') / 255.0\n",
    "\n",
    "# Define your model\n",
    "base_model = VGG19(weights='imagenet', include_top=False, input_shape=(248, 248, 3))\n",
    "\n",
    "# Freeze the convolutional layers\n",
    "for layer in base_model.layers:\n",
    "    layer.trainable = False\n",
    "\n",
    "# Add custom layers on top of VGG19\n",
    "x = Flatten()(base_model.output)\n",
    "x = Dense(512, activation='relu')(x)\n",
    "predictions = Dense(2)(x)  # Assuming you want to predict 2 coordinates\n",
    "\n",
    "model = Model(inputs=base_model.input, outputs=predictions)\n",
    "\n",
    "# Compile the model\n",
    "model.compile(optimizer='adam', loss='mean_squared_error')\n",
    "\n",
    "# Train the model\n",
    "model.fit(x_train, y_train, epochs=10, batch_size=32, validation_data=(x_test, y_test))\n",
    "\n",
    "# Save the trained model\n",
    "model.save('vgg19_coordinates_model.h5')"
   ]
  },
  {
   "cell_type": "code",
   "execution_count": 2,
   "id": "a28141d3-bb33-4e0c-a0e2-d5ba85ec90b2",
   "metadata": {},
   "outputs": [
    {
     "name": "stdout",
     "output_type": "stream",
     "text": [
      "\u001b[1m1/1\u001b[0m \u001b[32m━━━━━━━━━━━━━━━━━━━━\u001b[0m\u001b[37m\u001b[0m \u001b[1m2s\u001b[0m 2s/step\n",
      "Mean Squared Error: 162.68361906047528\n",
      "Mean Absolute Error: 10.775655746459961\n"
     ]
    }
   ],
   "source": [
    "from sklearn.metrics import mean_squared_error, mean_absolute_error\n",
    "\n",
    "# Predict on the test data\n",
    "y_pred = model.predict(x_test)\n",
    "\n",
    "# Calculate mean squared error\n",
    "mse = mean_squared_error(y_test, y_pred)\n",
    "print(\"Mean Squared Error:\", mse)\n",
    "\n",
    "# Calculate mean absolute error\n",
    "mae = mean_absolute_error(y_test, y_pred)\n",
    "print(\"Mean Absolute Error:\", mae)"
   ]
  },
  {
   "cell_type": "code",
   "execution_count": 3,
   "id": "f0a5aefe-f757-428e-a8a4-0bc1f4ad515e",
   "metadata": {},
   "outputs": [
    {
     "data": {
      "text/plain": [
       "array([[ 63.191456, 194.868   ],\n",
       "       [ 48.042297, 115.27912 ],\n",
       "       [ 45.03993 , 118.67253 ],\n",
       "       [ 48.329826, 115.41334 ],\n",
       "       [ 45.44926 , 121.135414],\n",
       "       [ 40.08274 , 113.60663 ],\n",
       "       [ 43.313   , 110.18506 ],\n",
       "       [ 42.315952, 117.151344],\n",
       "       [ 42.28477 , 111.40335 ],\n",
       "       [ 46.473713, 114.87507 ],\n",
       "       [ 45.614563, 118.74803 ],\n",
       "       [ 46.57895 , 116.08751 ],\n",
       "       [ 45.540367, 119.74681 ],\n",
       "       [ 45.374218, 116.8614  ],\n",
       "       [ 45.63011 , 118.70469 ],\n",
       "       [ 45.142944, 119.192924],\n",
       "       [ 46.078022, 118.71819 ]], dtype=float32)"
      ]
     },
     "execution_count": 3,
     "metadata": {},
     "output_type": "execute_result"
    }
   ],
   "source": [
    "y_pred"
   ]
  },
  {
   "cell_type": "code",
   "execution_count": 4,
   "id": "760e4592-d886-4098-a0e1-69574dbee20a",
   "metadata": {},
   "outputs": [
    {
     "data": {
      "text/plain": [
       "array([[ 62, 187],\n",
       "       [ 68, 113],\n",
       "       [ 46, 141],\n",
       "       [ 69, 115],\n",
       "       [ 56, 133],\n",
       "       [ 41, 138],\n",
       "       [ 51, 126],\n",
       "       [ 43, 136],\n",
       "       [ 50, 127],\n",
       "       [ 65, 118],\n",
       "       [ 50, 140],\n",
       "       [ 59, 122],\n",
       "       [ 56, 131],\n",
       "       [ 56, 128],\n",
       "       [ 56, 131],\n",
       "       [ 52, 133],\n",
       "       [ 63, 126]])"
      ]
     },
     "execution_count": 4,
     "metadata": {},
     "output_type": "execute_result"
    }
   ],
   "source": [
    "y_test"
   ]
  },
  {
   "cell_type": "code",
   "execution_count": 5,
   "id": "90c2691e-c1d9-47b8-b5c1-37cc950389f4",
   "metadata": {},
   "outputs": [
    {
     "data": {
      "text/plain": [
       "array([[ 65, 181],\n",
       "       [ 46, 213],\n",
       "       [ 64, 181],\n",
       "       [ 46, 211],\n",
       "       [ 66, 182],\n",
       "       [ 49, 205],\n",
       "       [ 66, 185],\n",
       "       [ 51, 206],\n",
       "       [ 72, 183],\n",
       "       [ 54, 204],\n",
       "       [ 67, 191],\n",
       "       [ 55, 206],\n",
       "       [ 70, 191],\n",
       "       [ 56, 205],\n",
       "       [ 66, 199],\n",
       "       [ 58, 203],\n",
       "       [ 67, 200],\n",
       "       [ 61, 199],\n",
       "       [ 64, 205],\n",
       "       [ 61, 196],\n",
       "       [ 65, 204],\n",
       "       [ 64, 194],\n",
       "       [ 64, 206],\n",
       "       [ 65, 194],\n",
       "       [ 60, 209],\n",
       "       [ 64, 191],\n",
       "       [ 54, 212],\n",
       "       [ 66, 189],\n",
       "       [ 51, 211],\n",
       "       [ 66, 186],\n",
       "       [ 48, 212],\n",
       "       [ 67, 185],\n",
       "       [ 40, 128],\n",
       "       [ 64, 110],\n",
       "       [ 40, 128],\n",
       "       [ 64, 108],\n",
       "       [ 44, 124],\n",
       "       [ 61, 114],\n",
       "       [ 43, 125],\n",
       "       [ 64, 111],\n",
       "       [ 66, 191],\n",
       "       [ 84, 176],\n",
       "       [ 65, 191],\n",
       "       [ 79, 177],\n",
       "       [ 43, 129],\n",
       "       [ 55, 117],\n",
       "       [ 45, 124],\n",
       "       [ 53, 118],\n",
       "       [ 44, 129],\n",
       "       [ 44, 126],\n",
       "       [ 44, 126],\n",
       "       [ 44, 124],\n",
       "       [ 50, 121],\n",
       "       [ 44, 125],\n",
       "       [ 59, 114],\n",
       "       [ 44, 125],\n",
       "       [ 58, 114],\n",
       "       [ 49, 118],\n",
       "       [ 59, 114],\n",
       "       [ 44, 126],\n",
       "       [ 60, 111],\n",
       "       [ 46, 126],\n",
       "       [ 62, 110],\n",
       "       [ 46, 128],\n",
       "       [ 61, 186],\n",
       "       [ 61, 197],\n",
       "       [ 64, 186],\n",
       "       [ 61, 195],\n",
       "       [ 67, 186],\n",
       "       [ 60, 193],\n",
       "       [ 65, 186],\n",
       "       [ 61, 194],\n",
       "       [ 66, 188],\n",
       "       [ 60, 193],\n",
       "       [ 65, 192],\n",
       "       [ 59, 191],\n",
       "       [ 61, 196],\n",
       "       [ 59, 193],\n",
       "       [ 56, 201],\n",
       "       [ 62, 192],\n",
       "       [ 57, 204],\n",
       "       [ 62, 188],\n",
       "       [ 58, 201],\n",
       "       [ 61, 187],\n",
       "       [ 60, 204],\n",
       "       [ 64, 184],\n",
       "       [ 61, 204],\n",
       "       [ 59, 186],\n",
       "       [ 64, 203],\n",
       "       [ 61, 184],\n",
       "       [ 65, 201],\n",
       "       [ 64, 186],\n",
       "       [ 65, 201],\n",
       "       [ 60, 186],\n",
       "       [ 57, 201]])"
      ]
     },
     "execution_count": 5,
     "metadata": {},
     "output_type": "execute_result"
    }
   ],
   "source": [
    "y_train"
   ]
  },
  {
   "cell_type": "code",
   "execution_count": null,
   "id": "0e64811f-df0d-4965-9cdf-5ce2961bf662",
   "metadata": {},
   "outputs": [],
   "source": []
  }
 ],
 "metadata": {
  "kernelspec": {
   "display_name": "Python 3 (ipykernel)",
   "language": "python",
   "name": "python3"
  },
  "language_info": {
   "codemirror_mode": {
    "name": "ipython",
    "version": 3
   },
   "file_extension": ".py",
   "mimetype": "text/x-python",
   "name": "python",
   "nbconvert_exporter": "python",
   "pygments_lexer": "ipython3",
   "version": "3.11.7"
  }
 },
 "nbformat": 4,
 "nbformat_minor": 5
}
