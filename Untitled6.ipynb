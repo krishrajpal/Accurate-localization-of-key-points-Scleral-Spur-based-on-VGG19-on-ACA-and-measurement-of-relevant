{
  "cells": [
    {
      "cell_type": "code",
      "execution_count": null,
      "metadata": {
        "colab": {
          "base_uri": "https://localhost:8080/"
        },
        "id": "Fw74Jut9vEd6",
        "outputId": "4a01d3f8-96a0-47cf-9588-6a648ad68531"
      },
      "outputs": [
        {
          "name": "stdout",
          "output_type": "stream",
          "text": [
            "Cloning into 'Project'...\n",
            "remote: Enumerating objects: 320, done.\u001b[K\n",
            "remote: Counting objects: 100% (273/273), done.\u001b[K\n",
            "remote: Compressing objects: 100% (246/246), done.\u001b[K\n",
            "remote: Total 320 (delta 44), reused 248 (delta 23), pack-reused 47\u001b[K\n",
            "Receiving objects: 100% (320/320), 4.84 MiB | 3.26 MiB/s, done.\n",
            "Resolving deltas: 100% (60/60), done.\n"
          ]
        }
      ],
      "source": [
        "!git clone https://github.com/krishrajpal/Accurate-localization-of-key-points-Scleral-Spur-based-on-VGG19-on-ACA-and-measurement-of-relevant.git Project"
      ]
    },
    {
      "cell_type": "code",
      "execution_count": null,
      "metadata": {
        "id": "7_KYBALGvRiI"
      },
      "outputs": [],
      "source": [
        "import numpy as np\n",
        "# Load your data\n",
        "x_train = np.load('/content/Project/npy/x_train.npy')  # Assuming you have numpy arrays saved as 'train_data.npy'\n",
        "y_train = np.load('/content/Project/npy/y_train.npy')  # Assuming you have numpy arrays saved as 'train_labels.npy'\n",
        "x_test = np.load('/content/Project/npy/x_test.npy')  # Assuming you have numpy arrays saved as 'test_data.npy'\n",
        "y_test = np.load('/content/Project/npy/y_test.npy')"
      ]
    },
    {
      "cell_type": "code",
      "execution_count": null,
      "metadata": {
        "id": "wFutgYP0uWFB"
      },
      "outputs": [],
      "source": [
        "import tensorflow as tf\n",
        "from tensorflow.keras import layers, models\n",
        "\n",
        "# Define your VGG model\n",
        "def vgg_model():\n",
        "    model = models.Sequential()\n",
        "    model.add(layers.Conv2D(64, (3, 3), activation='relu', padding='same', input_shape=(248, 248, 3)))\n",
        "    model.add(layers.Conv2D(64, (3, 3), activation='relu', padding='same'))\n",
        "    model.add(layers.MaxPooling2D((2, 2), strides=(2, 2)))\n",
        "\n",
        "    model.add(layers.Conv2D(128, (3, 3), activation='relu', padding='same'))\n",
        "    model.add(layers.Conv2D(128, (3, 3), activation='relu', padding='same'))\n",
        "    model.add(layers.MaxPooling2D((2, 2), strides=(2, 2)))\n",
        "\n",
        "    model.add(layers.Conv2D(256, (3, 3), activation='relu', padding='same'))\n",
        "    model.add(layers.Conv2D(256, (3, 3), activation='relu', padding='same'))\n",
        "    model.add(layers.Conv2D(256, (3, 3), activation='relu', padding='same'))\n",
        "    model.add(layers.MaxPooling2D((2, 2), strides=(2, 2)))\n",
        "\n",
        "    model.add(layers.Conv2D(512, (3, 3), activation='relu', padding='same'))\n",
        "    model.add(layers.Conv2D(512, (3, 3), activation='relu', padding='same'))\n",
        "    model.add(layers.Conv2D(512, (3, 3), activation='relu', padding='same'))\n",
        "    model.add(layers.MaxPooling2D((2, 2), strides=(2, 2)))\n",
        "\n",
        "    model.add(layers.Conv2D(512, (3, 3), activation='relu', padding='same'))\n",
        "    model.add(layers.Conv2D(512, (3, 3), activation='relu', padding='same'))\n",
        "    model.add(layers.Conv2D(512, (3, 3), activation='relu', padding='same'))\n",
        "    model.add(layers.MaxPooling2D((2, 2), strides=(2, 2)))\n",
        "\n",
        "    model.add(layers.Flatten())\n",
        "    model.add(layers.Dense(4096, activation='relu'))\n",
        "    model.add(layers.Dense(4096, activation='relu'))\n",
        "    model.add(layers.Dense(2))  # Output layer for x, y coordinates\n",
        "\n",
        "    return model\n",
        "\n",
        "# Create an instance of the model\n",
        "model = vgg_model()\n"
      ]
    },
    {
      "cell_type": "code",
      "execution_count": null,
      "metadata": {
        "colab": {
          "background_save": true,
          "base_uri": "https://localhost:8080/"
        },
        "id": "5blY_joHvIgR",
        "outputId": "66b7a552-27ad-4865-a3fa-f09bd9f4cc5b"
      },
      "outputs": [
        {
          "name": "stdout",
          "output_type": "stream",
          "text": [
            "Epoch 1/10\n",
            "3/3 [==============================] - 258s 87s/step - loss: 690386688.0000 - val_loss: 10399.7227\n",
            "Epoch 2/10\n",
            "3/3 [==============================] - 249s 84s/step - loss: 16455.7422 - val_loss: 328.4838\n",
            "Epoch 3/10\n",
            "3/3 [==============================] - 252s 89s/step - loss: 357667.0000 - val_loss: 8783.3105\n",
            "Epoch 4/10\n",
            "3/3 [==============================] - 236s 80s/step - loss: 16532.9180 - val_loss: 10482.7314\n",
            "Epoch 5/10\n",
            "3/3 [==============================] - 243s 86s/step - loss: 17374.6797 - val_loss: 10424.2803\n",
            "Epoch 6/10\n",
            "3/3 [==============================] - 225s 76s/step - loss: 17329.9707 - val_loss: 10413.7061\n",
            "Epoch 7/10\n",
            "3/3 [==============================] - 224s 76s/step - loss: 17318.7227 - val_loss: 10399.9844\n",
            "Epoch 8/10\n",
            "3/3 [==============================] - 229s 79s/step - loss: 17283.2910 - val_loss: 10295.2344\n",
            "Epoch 9/10\n",
            "3/3 [==============================] - 224s 76s/step - loss: 16936.9746 - val_loss: 8753.4824\n",
            "Epoch 10/10\n",
            "3/3 [==============================] - 224s 76s/step - loss: 10577.5459 - val_loss: 15207.8682\n"
          ]
        },
        {
          "data": {
            "text/plain": [
              "<keras.src.callbacks.History at 0x7a9d73d59db0>"
            ]
          },
          "execution_count": 4,
          "metadata": {},
          "output_type": "execute_result"
        }
      ],
      "source": [
        "model.compile(optimizer='adam', loss='mse')  # MSE loss for coordinate prediction\n",
        "\n",
        "# Train the model\n",
        "# model.fit(train_images, train_coordinates, epochs=10, batch_size=32, validation_data=(val_images, val_coordinates))\n",
        "model.fit(x_train, y_train, epochs=10, batch_size=32, validation_data=(x_test, y_test))\n",
        "# Evaluate the model\n",
        "# loss = model.evaluate(test_images, test_coordinates)\n",
        "# print(\"Test Loss:\", loss)"
      ]
    },
    {
      "cell_type": "code",
      "execution_count": null,
      "metadata": {
        "colab": {
          "background_save": true
        },
        "id": "ouq6NHfyvnLw",
        "outputId": "a9ef2c22-41db-4822-b3b6-62289e745370"
      },
      "outputs": [
        {
          "name": "stdout",
          "output_type": "stream",
          "text": [
            "1/1 [==============================] - 11s 11s/step\n",
            "Mean Squared Error: 15207.86752027427\n",
            "Mean Absolute Error: 112.12417019114775\n"
          ]
        }
      ],
      "source": [
        "from sklearn.metrics import mean_squared_error, mean_absolute_error\n",
        "# Predict on the test data\n",
        "y_pred = model.predict(x_test)\n",
        "# Calculate mean squared error\n",
        "mse = mean_squared_error(y_test, y_pred)\n",
        "print(\"Mean Squared Error:\", mse)\n",
        "# Calculate mean absolute error\n",
        "mae = mean_absolute_error(y_test, y_pred)\n",
        "print(\"Mean Absolute Error:\", mae)"
      ]
    },
    {
      "cell_type": "code",
      "execution_count": null,
      "metadata": {
        "colab": {
          "background_save": true
        },
        "id": "cSDF1S_uvoZ8"
      },
      "outputs": [],
      "source": []
    }
  ],
  "metadata": {
    "colab": {
      "provenance": []
    },
    "kernelspec": {
      "display_name": "Python 3",
      "name": "python3"
    },
    "language_info": {
      "name": "python"
    }
  },
  "nbformat": 4,
  "nbformat_minor": 0
}